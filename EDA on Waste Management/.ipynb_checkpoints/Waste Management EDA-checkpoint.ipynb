{
 "cells": [
  {
   "cell_type": "code",
   "execution_count": 1,
   "id": "921af7ba",
   "metadata": {},
   "outputs": [],
   "source": [
    "# importing libraries\n",
    "import pandas as pd\n",
    "import matplotlib.pyplot as plt\n",
    "import numpy as np"
   ]
  },
  {
   "cell_type": "code",
   "execution_count": 2,
   "id": "233fac16",
   "metadata": {},
   "outputs": [
    {
     "name": "stdout",
     "output_type": "stream",
     "text": [
      "Index(['iso3c', 'region_id', 'country_name', 'income_id', 'gdp',\n",
      "       'population_population_number_of_people',\n",
      "       'total_msw_total_msw_generated_tons_year',\n",
      "       'waste_treatment_recycling_percent'],\n",
      "      dtype='object')\n",
      "(217, 8)\n"
     ]
    }
   ],
   "source": [
    "fields = ['iso3c', 'region_id', 'country_name', 'income_id', 'gdp', 'population_population_number_of_people','total_msw_total_msw_generated_tons_year', 'waste_treatment_recycling_percent'] \n",
    "data = pd.read_csv(\"country_level_data_0.csv\", usecols=fields)\n",
    "\n",
    "print (data.columns)\n",
    "print (data.shape)"
   ]
  },
  {
   "cell_type": "code",
   "execution_count": 3,
   "id": "2c96428c",
   "metadata": {},
   "outputs": [
    {
     "name": "stdout",
     "output_type": "stream",
     "text": [
      "<class 'pandas.core.frame.DataFrame'>\n",
      "RangeIndex: 217 entries, 0 to 216\n",
      "Data columns (total 8 columns):\n",
      " #   Column                                   Non-Null Count  Dtype  \n",
      "---  ------                                   --------------  -----  \n",
      " 0   iso3c                                    217 non-null    object \n",
      " 1   region_id                                217 non-null    object \n",
      " 2   country_name                             216 non-null    object \n",
      " 3   income_id                                217 non-null    object \n",
      " 4   gdp                                      216 non-null    float64\n",
      " 5   population_population_number_of_people   217 non-null    int64  \n",
      " 6   total_msw_total_msw_generated_tons_year  215 non-null    float64\n",
      " 7   waste_treatment_recycling_percent        124 non-null    float64\n",
      "dtypes: float64(3), int64(1), object(4)\n",
      "memory usage: 13.7+ KB\n"
     ]
    }
   ],
   "source": [
    "data.info()"
   ]
  },
  {
   "cell_type": "markdown",
   "id": "8a8410de",
   "metadata": {},
   "source": [
    "#### Tidying the data:\n",
    "<ol>\n",
    "    <li> To rename the column: \n",
    "      <br> - total_msw_total_msw_generated_tons_year to <b> msw_generated_by_tons </b>\n",
    "      <br> - population_population_number_of_people to <b> population </b> \n",
    "      <br> - waste_treatment_recycling_percent to <b> recycling_percent </b>\n",
    "    </li>\n",
    "    <li> To handle the missing value in country name </li>\n",
    "</ol>"
   ]
  },
  {
   "cell_type": "code",
   "execution_count": 4,
   "id": "e7e98769",
   "metadata": {},
   "outputs": [
    {
     "data": {
      "text/plain": [
       "Index(['iso3c', 'region_id', 'country_name', 'income_id', 'gdp',\n",
       "       'population_population_number_of_people', 'msw_generated_by_tons',\n",
       "       'waste_treatment_recycling_percent'],\n",
       "      dtype='object')"
      ]
     },
     "execution_count": 4,
     "metadata": {},
     "output_type": "execute_result"
    }
   ],
   "source": [
    "# 1a. To rename the column \"total_msw_total_msw_generated_tons_year\" to \"msw_generated_by_tons\"\n",
    "data.rename(columns = {\"total_msw_total_msw_generated_tons_year\":\"msw_generated_by_tons\"}, inplace=True)\n",
    "data.columns"
   ]
  },
  {
   "cell_type": "code",
   "execution_count": 5,
   "id": "d071909f",
   "metadata": {},
   "outputs": [
    {
     "data": {
      "text/plain": [
       "Index(['iso3c', 'region_id', 'country_name', 'income_id', 'gdp', 'population',\n",
       "       'msw_generated_by_tons', 'waste_treatment_recycling_percent'],\n",
       "      dtype='object')"
      ]
     },
     "execution_count": 5,
     "metadata": {},
     "output_type": "execute_result"
    }
   ],
   "source": [
    "# 1b. To rename the column \"population_population_number_of_people\" to \"population\"\n",
    "data.rename(columns = {\"population_population_number_of_people\":\"population\"}, inplace=True)\n",
    "data.columns"
   ]
  },
  {
   "cell_type": "code",
   "execution_count": 6,
   "id": "d14e75fb",
   "metadata": {},
   "outputs": [
    {
     "data": {
      "text/plain": [
       "Index(['iso3c', 'region_id', 'country_name', 'income_id', 'gdp', 'population',\n",
       "       'msw_generated_by_tons', 'recycling_percent'],\n",
       "      dtype='object')"
      ]
     },
     "execution_count": 6,
     "metadata": {},
     "output_type": "execute_result"
    }
   ],
   "source": [
    "# 1c. To rename the column \"population_population_number_of_people\" to \"population\"\n",
    "data.rename(columns = {\"waste_treatment_recycling_percent\":\"recycling_percent\"}, inplace=True)\n",
    "data.columns"
   ]
  },
  {
   "cell_type": "code",
   "execution_count": 7,
   "id": "d63f490f",
   "metadata": {},
   "outputs": [
    {
     "data": {
      "text/html": [
       "<div>\n",
       "<style scoped>\n",
       "    .dataframe tbody tr th:only-of-type {\n",
       "        vertical-align: middle;\n",
       "    }\n",
       "\n",
       "    .dataframe tbody tr th {\n",
       "        vertical-align: top;\n",
       "    }\n",
       "\n",
       "    .dataframe thead th {\n",
       "        text-align: right;\n",
       "    }\n",
       "</style>\n",
       "<table border=\"1\" class=\"dataframe\">\n",
       "  <thead>\n",
       "    <tr style=\"text-align: right;\">\n",
       "      <th></th>\n",
       "      <th>iso3c</th>\n",
       "      <th>region_id</th>\n",
       "      <th>country_name</th>\n",
       "      <th>income_id</th>\n",
       "      <th>gdp</th>\n",
       "      <th>population</th>\n",
       "      <th>msw_generated_by_tons</th>\n",
       "      <th>recycling_percent</th>\n",
       "    </tr>\n",
       "  </thead>\n",
       "  <tbody>\n",
       "    <tr>\n",
       "      <th>198</th>\n",
       "      <td>TWN</td>\n",
       "      <td>EAS</td>\n",
       "      <td>NaN</td>\n",
       "      <td>HIC</td>\n",
       "      <td>57362.92578</td>\n",
       "      <td>23434000</td>\n",
       "      <td>7336000.0</td>\n",
       "      <td>NaN</td>\n",
       "    </tr>\n",
       "  </tbody>\n",
       "</table>\n",
       "</div>"
      ],
      "text/plain": [
       "    iso3c region_id country_name income_id          gdp  population  \\\n",
       "198   TWN       EAS          NaN       HIC  57362.92578    23434000   \n",
       "\n",
       "     msw_generated_by_tons  recycling_percent  \n",
       "198              7336000.0                NaN  "
      ]
     },
     "execution_count": 7,
     "metadata": {},
     "output_type": "execute_result"
    }
   ],
   "source": [
    "# To handle the missing value in country name\n",
    "# the country name \"NA\"  in the csv data was interpreted as a NaN value\n",
    "data[data['country_name'].isnull()]"
   ]
  },
  {
   "cell_type": "code",
   "execution_count": 8,
   "id": "8b04ab6b",
   "metadata": {},
   "outputs": [
    {
     "data": {
      "text/plain": [
       "iso3c                                        TWN\n",
       "region_id                                    EAS\n",
       "country_name             The Republic of Namibia\n",
       "income_id                                    HIC\n",
       "gdp                                  57362.92578\n",
       "population                              23434000\n",
       "msw_generated_by_tons                  7336000.0\n",
       "recycling_percent                            NaN\n",
       "Name: 198, dtype: object"
      ]
     },
     "execution_count": 8,
     "metadata": {},
     "output_type": "execute_result"
    }
   ],
   "source": [
    "data.loc[198,['country_name']] = 'The Republic of Namibia'\n",
    "\n",
    "check_data = data.iloc[198]\n",
    "check_data"
   ]
  },
  {
   "cell_type": "markdown",
   "id": "dcc133d5",
   "metadata": {},
   "source": [
    "## Zoom into area of interest - East Asia"
   ]
  },
  {
   "cell_type": "code",
   "execution_count": 9,
   "id": "dbc438be",
   "metadata": {},
   "outputs": [
    {
     "data": {
      "text/plain": [
       "ECS    58\n",
       "SSF    48\n",
       "LCN    42\n",
       "EAS    37\n",
       "MEA    21\n",
       "SAS     8\n",
       "NAC     3\n",
       "Name: region_id, dtype: int64"
      ]
     },
     "execution_count": 9,
     "metadata": {},
     "output_type": "execute_result"
    }
   ],
   "source": [
    "data['region_id'].value_counts()"
   ]
  },
  {
   "cell_type": "code",
   "execution_count": 10,
   "id": "92392368",
   "metadata": {},
   "outputs": [
    {
     "data": {
      "text/html": [
       "<div>\n",
       "<style scoped>\n",
       "    .dataframe tbody tr th:only-of-type {\n",
       "        vertical-align: middle;\n",
       "    }\n",
       "\n",
       "    .dataframe tbody tr th {\n",
       "        vertical-align: top;\n",
       "    }\n",
       "\n",
       "    .dataframe thead th {\n",
       "        text-align: right;\n",
       "    }\n",
       "</style>\n",
       "<table border=\"1\" class=\"dataframe\">\n",
       "  <thead>\n",
       "    <tr style=\"text-align: right;\">\n",
       "      <th></th>\n",
       "      <th>iso3c</th>\n",
       "      <th>region_id</th>\n",
       "      <th>country_name</th>\n",
       "      <th>income_id</th>\n",
       "      <th>gdp</th>\n",
       "      <th>population</th>\n",
       "      <th>msw_generated_by_tons</th>\n",
       "      <th>recycling_percent</th>\n",
       "    </tr>\n",
       "  </thead>\n",
       "  <tbody>\n",
       "    <tr>\n",
       "      <th>8</th>\n",
       "      <td>ASM</td>\n",
       "      <td>EAS</td>\n",
       "      <td>American Samoa</td>\n",
       "      <td>UMC</td>\n",
       "      <td>11113.44238</td>\n",
       "      <td>55599</td>\n",
       "      <td>1.898949e+04</td>\n",
       "      <td>NaN</td>\n",
       "    </tr>\n",
       "    <tr>\n",
       "      <th>10</th>\n",
       "      <td>AUS</td>\n",
       "      <td>EAS</td>\n",
       "      <td>Australia</td>\n",
       "      <td>HIC</td>\n",
       "      <td>47784.17969</td>\n",
       "      <td>23789338</td>\n",
       "      <td>1.334500e+07</td>\n",
       "      <td>42.10</td>\n",
       "    </tr>\n",
       "    <tr>\n",
       "      <th>28</th>\n",
       "      <td>BRN</td>\n",
       "      <td>EAS</td>\n",
       "      <td>Brunei Darussalam</td>\n",
       "      <td>HIC</td>\n",
       "      <td>60865.98828</td>\n",
       "      <td>423196</td>\n",
       "      <td>2.162532e+05</td>\n",
       "      <td>NaN</td>\n",
       "    </tr>\n",
       "    <tr>\n",
       "      <th>36</th>\n",
       "      <td>CHN</td>\n",
       "      <td>EAS</td>\n",
       "      <td>China</td>\n",
       "      <td>UMC</td>\n",
       "      <td>16092.30078</td>\n",
       "      <td>1400050048</td>\n",
       "      <td>3.950814e+08</td>\n",
       "      <td>NaN</td>\n",
       "    </tr>\n",
       "    <tr>\n",
       "      <th>63</th>\n",
       "      <td>FJI</td>\n",
       "      <td>EAS</td>\n",
       "      <td>Fiji</td>\n",
       "      <td>UMC</td>\n",
       "      <td>10787.68555</td>\n",
       "      <td>867086</td>\n",
       "      <td>1.893896e+05</td>\n",
       "      <td>5.45</td>\n",
       "    </tr>\n",
       "  </tbody>\n",
       "</table>\n",
       "</div>"
      ],
      "text/plain": [
       "   iso3c region_id       country_name income_id          gdp  population  \\\n",
       "8    ASM       EAS     American Samoa       UMC  11113.44238       55599   \n",
       "10   AUS       EAS          Australia       HIC  47784.17969    23789338   \n",
       "28   BRN       EAS  Brunei Darussalam       HIC  60865.98828      423196   \n",
       "36   CHN       EAS              China       UMC  16092.30078  1400050048   \n",
       "63   FJI       EAS               Fiji       UMC  10787.68555      867086   \n",
       "\n",
       "    msw_generated_by_tons  recycling_percent  \n",
       "8            1.898949e+04                NaN  \n",
       "10           1.334500e+07              42.10  \n",
       "28           2.162532e+05                NaN  \n",
       "36           3.950814e+08                NaN  \n",
       "63           1.893896e+05               5.45  "
      ]
     },
     "execution_count": 10,
     "metadata": {},
     "output_type": "execute_result"
    }
   ],
   "source": [
    "eas =  data.loc[data['region_id']=='EAS'].copy()\n",
    "eas.head()"
   ]
  },
  {
   "cell_type": "code",
   "execution_count": 11,
   "id": "6461642f",
   "metadata": {},
   "outputs": [
    {
     "data": {
      "text/html": [
       "<div>\n",
       "<style scoped>\n",
       "    .dataframe tbody tr th:only-of-type {\n",
       "        vertical-align: middle;\n",
       "    }\n",
       "\n",
       "    .dataframe tbody tr th {\n",
       "        vertical-align: top;\n",
       "    }\n",
       "\n",
       "    .dataframe thead th {\n",
       "        text-align: right;\n",
       "    }\n",
       "</style>\n",
       "<table border=\"1\" class=\"dataframe\">\n",
       "  <thead>\n",
       "    <tr style=\"text-align: right;\">\n",
       "      <th></th>\n",
       "      <th>iso3c</th>\n",
       "      <th>region_id</th>\n",
       "      <th>country_name</th>\n",
       "      <th>income_id</th>\n",
       "      <th>gdp</th>\n",
       "      <th>population</th>\n",
       "      <th>msw_generated_by_tons</th>\n",
       "      <th>recycling_percent</th>\n",
       "      <th>waste_per_capita_by_tons</th>\n",
       "    </tr>\n",
       "  </thead>\n",
       "  <tbody>\n",
       "    <tr>\n",
       "      <th>8</th>\n",
       "      <td>ASM</td>\n",
       "      <td>EAS</td>\n",
       "      <td>American Samoa</td>\n",
       "      <td>UMC</td>\n",
       "      <td>11113.44238</td>\n",
       "      <td>55599</td>\n",
       "      <td>1.898949e+04</td>\n",
       "      <td>NaN</td>\n",
       "      <td>0.341544</td>\n",
       "    </tr>\n",
       "    <tr>\n",
       "      <th>10</th>\n",
       "      <td>AUS</td>\n",
       "      <td>EAS</td>\n",
       "      <td>Australia</td>\n",
       "      <td>HIC</td>\n",
       "      <td>47784.17969</td>\n",
       "      <td>23789338</td>\n",
       "      <td>1.334500e+07</td>\n",
       "      <td>42.10</td>\n",
       "      <td>0.560966</td>\n",
       "    </tr>\n",
       "    <tr>\n",
       "      <th>28</th>\n",
       "      <td>BRN</td>\n",
       "      <td>EAS</td>\n",
       "      <td>Brunei Darussalam</td>\n",
       "      <td>HIC</td>\n",
       "      <td>60865.98828</td>\n",
       "      <td>423196</td>\n",
       "      <td>2.162532e+05</td>\n",
       "      <td>NaN</td>\n",
       "      <td>0.511000</td>\n",
       "    </tr>\n",
       "    <tr>\n",
       "      <th>36</th>\n",
       "      <td>CHN</td>\n",
       "      <td>EAS</td>\n",
       "      <td>China</td>\n",
       "      <td>UMC</td>\n",
       "      <td>16092.30078</td>\n",
       "      <td>1400050048</td>\n",
       "      <td>3.950814e+08</td>\n",
       "      <td>NaN</td>\n",
       "      <td>0.282191</td>\n",
       "    </tr>\n",
       "    <tr>\n",
       "      <th>63</th>\n",
       "      <td>FJI</td>\n",
       "      <td>EAS</td>\n",
       "      <td>Fiji</td>\n",
       "      <td>UMC</td>\n",
       "      <td>10787.68555</td>\n",
       "      <td>867086</td>\n",
       "      <td>1.893896e+05</td>\n",
       "      <td>5.45</td>\n",
       "      <td>0.218421</td>\n",
       "    </tr>\n",
       "  </tbody>\n",
       "</table>\n",
       "</div>"
      ],
      "text/plain": [
       "   iso3c region_id       country_name income_id          gdp  population  \\\n",
       "8    ASM       EAS     American Samoa       UMC  11113.44238       55599   \n",
       "10   AUS       EAS          Australia       HIC  47784.17969    23789338   \n",
       "28   BRN       EAS  Brunei Darussalam       HIC  60865.98828      423196   \n",
       "36   CHN       EAS              China       UMC  16092.30078  1400050048   \n",
       "63   FJI       EAS               Fiji       UMC  10787.68555      867086   \n",
       "\n",
       "    msw_generated_by_tons  recycling_percent  waste_per_capita_by_tons  \n",
       "8            1.898949e+04                NaN                  0.341544  \n",
       "10           1.334500e+07              42.10                  0.560966  \n",
       "28           2.162532e+05                NaN                  0.511000  \n",
       "36           3.950814e+08                NaN                  0.282191  \n",
       "63           1.893896e+05               5.45                  0.218421  "
      ]
     },
     "execution_count": 11,
     "metadata": {},
     "output_type": "execute_result"
    }
   ],
   "source": [
    "eas['waste_per_capita_by_tons'] = eas['msw_generated_by_tons'] / eas['population']\n",
    "eas.head()"
   ]
  },
  {
   "cell_type": "code",
   "execution_count": 12,
   "id": "2bf57e40",
   "metadata": {},
   "outputs": [
    {
     "name": "stdout",
     "output_type": "stream",
     "text": [
      "0.32199553693644994\n"
     ]
    }
   ],
   "source": [
    "# finding if there is any correlation between waste per capita and income level\n",
    "eas ['gdp_per_capital'] = eas['gdp'] / eas['population']\n",
    "corr = eas['waste_per_capita_by_tons'].corr(eas['gdp_per_capital'])\n",
    "print (corr)"
   ]
  },
  {
   "cell_type": "code",
   "execution_count": 13,
   "id": "19b3a3d8",
   "metadata": {},
   "outputs": [
    {
     "data": {
      "text/html": [
       "<div>\n",
       "<style scoped>\n",
       "    .dataframe tbody tr th:only-of-type {\n",
       "        vertical-align: middle;\n",
       "    }\n",
       "\n",
       "    .dataframe tbody tr th {\n",
       "        vertical-align: top;\n",
       "    }\n",
       "\n",
       "    .dataframe thead th {\n",
       "        text-align: right;\n",
       "    }\n",
       "</style>\n",
       "<table border=\"1\" class=\"dataframe\">\n",
       "  <thead>\n",
       "    <tr style=\"text-align: right;\">\n",
       "      <th></th>\n",
       "      <th>iso3c</th>\n",
       "      <th>region_id</th>\n",
       "      <th>country_name</th>\n",
       "      <th>income_id</th>\n",
       "      <th>gdp</th>\n",
       "      <th>population</th>\n",
       "      <th>msw_generated_by_tons</th>\n",
       "      <th>recycling_percent</th>\n",
       "      <th>waste_per_capita_by_tons</th>\n",
       "      <th>gdp_per_capital</th>\n",
       "    </tr>\n",
       "  </thead>\n",
       "  <tbody>\n",
       "    <tr>\n",
       "      <th>8</th>\n",
       "      <td>ASM</td>\n",
       "      <td>EAS</td>\n",
       "      <td>American Samoa</td>\n",
       "      <td>UMC</td>\n",
       "      <td>11113.44238</td>\n",
       "      <td>55599</td>\n",
       "      <td>1.898949e+04</td>\n",
       "      <td>NaN</td>\n",
       "      <td>0.341544</td>\n",
       "      <td>0.199886</td>\n",
       "    </tr>\n",
       "    <tr>\n",
       "      <th>10</th>\n",
       "      <td>AUS</td>\n",
       "      <td>EAS</td>\n",
       "      <td>Australia</td>\n",
       "      <td>HIC</td>\n",
       "      <td>47784.17969</td>\n",
       "      <td>23789338</td>\n",
       "      <td>1.334500e+07</td>\n",
       "      <td>42.10</td>\n",
       "      <td>0.560966</td>\n",
       "      <td>0.002009</td>\n",
       "    </tr>\n",
       "    <tr>\n",
       "      <th>28</th>\n",
       "      <td>BRN</td>\n",
       "      <td>EAS</td>\n",
       "      <td>Brunei Darussalam</td>\n",
       "      <td>HIC</td>\n",
       "      <td>60865.98828</td>\n",
       "      <td>423196</td>\n",
       "      <td>2.162532e+05</td>\n",
       "      <td>NaN</td>\n",
       "      <td>0.511000</td>\n",
       "      <td>0.143825</td>\n",
       "    </tr>\n",
       "    <tr>\n",
       "      <th>36</th>\n",
       "      <td>CHN</td>\n",
       "      <td>EAS</td>\n",
       "      <td>China</td>\n",
       "      <td>UMC</td>\n",
       "      <td>16092.30078</td>\n",
       "      <td>1400050048</td>\n",
       "      <td>3.950814e+08</td>\n",
       "      <td>NaN</td>\n",
       "      <td>0.282191</td>\n",
       "      <td>0.000011</td>\n",
       "    </tr>\n",
       "    <tr>\n",
       "      <th>63</th>\n",
       "      <td>FJI</td>\n",
       "      <td>EAS</td>\n",
       "      <td>Fiji</td>\n",
       "      <td>UMC</td>\n",
       "      <td>10787.68555</td>\n",
       "      <td>867086</td>\n",
       "      <td>1.893896e+05</td>\n",
       "      <td>5.45</td>\n",
       "      <td>0.218421</td>\n",
       "      <td>0.012441</td>\n",
       "    </tr>\n",
       "  </tbody>\n",
       "</table>\n",
       "</div>"
      ],
      "text/plain": [
       "   iso3c region_id       country_name income_id          gdp  population  \\\n",
       "8    ASM       EAS     American Samoa       UMC  11113.44238       55599   \n",
       "10   AUS       EAS          Australia       HIC  47784.17969    23789338   \n",
       "28   BRN       EAS  Brunei Darussalam       HIC  60865.98828      423196   \n",
       "36   CHN       EAS              China       UMC  16092.30078  1400050048   \n",
       "63   FJI       EAS               Fiji       UMC  10787.68555      867086   \n",
       "\n",
       "    msw_generated_by_tons  recycling_percent  waste_per_capita_by_tons  \\\n",
       "8            1.898949e+04                NaN                  0.341544   \n",
       "10           1.334500e+07              42.10                  0.560966   \n",
       "28           2.162532e+05                NaN                  0.511000   \n",
       "36           3.950814e+08                NaN                  0.282191   \n",
       "63           1.893896e+05               5.45                  0.218421   \n",
       "\n",
       "    gdp_per_capital  \n",
       "8          0.199886  \n",
       "10         0.002009  \n",
       "28         0.143825  \n",
       "36         0.000011  \n",
       "63         0.012441  "
      ]
     },
     "execution_count": 13,
     "metadata": {},
     "output_type": "execute_result"
    }
   ],
   "source": [
    "eas.head()"
   ]
  },
  {
   "cell_type": "code",
   "execution_count": 14,
   "id": "6bf2a24f",
   "metadata": {},
   "outputs": [
    {
     "name": "stdout",
     "output_type": "stream",
     "text": [
      "0.08991715300431449\n"
     ]
    }
   ],
   "source": [
    "# finding if there is any correlation between recycling level and income level\n",
    "corr = eas['recycling_percent'].corr(eas['gdp_per_capital'])\n",
    "print (corr)"
   ]
  },
  {
   "cell_type": "code",
   "execution_count": 15,
   "id": "d17fb98c",
   "metadata": {},
   "outputs": [],
   "source": [
    "top = eas.sort_values(by=['waste_per_capita_by_tons'], ascending=False).head(3)\n",
    "top_10 = eas.sort_values(by=['waste_per_capita_by_tons'], ascending=False).head(10)"
   ]
  },
  {
   "cell_type": "code",
   "execution_count": 16,
   "id": "53d7ec2a",
   "metadata": {},
   "outputs": [],
   "source": [
    "eas_countries = eas['country_name'].to_list()\n",
    "eas_top_countries = top['country_name'].to_list()"
   ]
  },
  {
   "cell_type": "code",
   "execution_count": 17,
   "id": "21a35f50",
   "metadata": {},
   "outputs": [
    {
     "data": {
      "image/png": "[encoded data removed]",
      "text/plain": [
       "<Figure size 1152x648 with 1 Axes>"
      ]
     },
     "metadata": {
      "needs_background": "light"
     },
     "output_type": "display_data"
    }
   ],
   "source": [
    "country = top_10['country_name']\n",
    "waste_per_capita  = top_10['waste_per_capita_by_tons']\n",
    " \n",
    "# Figure Size\n",
    "fig, ax = plt.subplots(figsize =(16, 9))\n",
    " \n",
    "# Horizontal Bar Plot\n",
    "ax.barh(country, waste_per_capita, color='lightblue')\n",
    " \n",
    "# Remove axes splines\n",
    "for s in ['top', 'bottom', 'left', 'right']:\n",
    "    ax.spines[s].set_visible(False)\n",
    " \n",
    "# Remove x, y Ticks\n",
    "ax.xaxis.set_ticks_position('none')\n",
    "ax.yaxis.set_ticks_position('none')\n",
    "\n",
    "# Add padding between axes and labels\n",
    "ax.xaxis.set_tick_params(pad = 5)\n",
    "ax.yaxis.set_tick_params(pad = 10)\n",
    " \n",
    "# Add x, y gridlines\n",
    "ax.grid(b = True, color ='grey',\n",
    "        linestyle ='-.', linewidth = 0.5,\n",
    "        alpha = 0.2)\n",
    " \n",
    "# Show top values\n",
    "ax.invert_yaxis()\n",
    " \n",
    "# Add annotation to bars\n",
    "for i in ax.patches:\n",
    "    plt.text(i.get_width()+0.02, i.get_y()+0.5,\n",
    "             str(round((i.get_width()), 4)),\n",
    "             fontsize = 10, fontweight ='bold',\n",
    "             color ='grey')\n",
    " \n",
    "# Add Plot Title\n",
    "ax.set_title('Top 10 countries in East Asia and their Waste Per Capita By Tonnes',\n",
    "             loc ='left', fontsize= 20)\n",
    " \n",
    " \n",
    "# Show Plot\n",
    "plt.show()"
   ]
  },
  {
   "cell_type": "code",
   "execution_count": 50,
   "id": "4d16313a",
   "metadata": {},
   "outputs": [
    {
     "data": {
      "image/png": "[encoded data removed]",
      "text/plain": [
       "<Figure size 432x432 with 1 Axes>"
      ]
     },
     "metadata": {},
     "output_type": "display_data"
    }
   ],
   "source": [
    "plt.figure(figsize=(6, 6))\n",
    "eas_not_recycle = eas['recycling_percent'].isnull().sum()\n",
    "eas_recycle = eas.shape[0] - eas_not_recycle\n",
    "\n",
    "y = np.array([eas_not_recycle/eas.shape[0], eas_recycle/eas.shape[0]])\n",
    "labels = [\"Never recycle\", \"Recycle\"]\n",
    "explode = [0.1, 0]\n",
    "\n",
    "colors = ['#66b3ff','#ff9999']\n",
    "plt.pie(y, labels = labels, explode = explode, shadow = True, startangle = 90, colors=colors, autopct='%.1f%%')\n",
    "plt.title('% of countries that recycle in EAS region')\n",
    "plt.show() "
   ]
  },
  {
   "cell_type": "code",
   "execution_count": 19,
   "id": "4d3c6f02",
   "metadata": {},
   "outputs": [],
   "source": [
    "eas_recycle_comp = eas[eas['recycling_percent'].notnull()].copy()\n",
    "eas_recycle_comp.sort_values(by=['recycling_percent'], inplace=True)"
   ]
  },
  {
   "cell_type": "code",
   "execution_count": 52,
   "id": "955dcd66",
   "metadata": {},
   "outputs": [
    {
     "data": {
      "image/png": "[encoded data removed]",
      "text/plain": [
       "<Figure size 1080x504 with 1 Axes>"
      ]
     },
     "metadata": {
      "needs_background": "light"
     },
     "output_type": "display_data"
    }
   ],
   "source": [
    "# Recyclable for companies that recycle\n",
    "country = eas_recycle_comp['country_name']\n",
    "recycling_percent  = eas_recycle_comp['recycling_percent']\n",
    " \n",
    "# Figure Size\n",
    "fig = plt.figure(figsize =(15, 7))\n",
    " \n",
    "# Horizontal Bar Plot\n",
    "plt.bar(country, recycling_percent, color='maroon', alpha=0.5)\n",
    "plt.xticks(rotation=45, horizontalalignment='right')\n",
    "plt.axhline(y=9, color='r', linestyle='-')\n",
    "plt.ylabel('% Waste treated by recycling', fontsize=10)\n",
    "plt.title('% Waste treated through recycling by countries', fontsize=15)\n",
    "plt.grid(axis='y')\n",
    " \n",
    "# Show Plot\n",
    "plt.show()"
   ]
  },
  {
   "cell_type": "markdown",
   "id": "7ce1aeba",
   "metadata": {},
   "source": [
    "> Information on horizontal bar plot: https://www.geeksforgeeks.org/bar-plot-in-matplotlib/ <br>\n",
    "> Additional: How to change the opacity of the bar chart: https://adityarajgor.medium.com/how-to-change-color-density-of-matplotlib-barplot-bars-to-their-corresponding-values-74e81ad3a987"
   ]
  },
  {
   "cell_type": "code",
   "execution_count": 28,
   "id": "7a1bd04a",
   "metadata": {},
   "outputs": [
    {
     "name": "stdout",
     "output_type": "stream",
     "text": [
      "Index(['country_name', 'composition_food_organic_waste_percent',\n",
      "       'composition_glass_percent', 'composition_metal_percent',\n",
      "       'composition_other_percent', 'composition_paper_cardboard_percent',\n",
      "       'composition_plastic_percent', 'composition_rubber_leather_percent',\n",
      "       'composition_wood_percent',\n",
      "       'composition_yard_garden_green_waste_percent'],\n",
      "      dtype='object')\n",
      "(217, 10)\n"
     ]
    }
   ],
   "source": [
    "# other field for consideration - 'waste_treatment_recycling_percent'\n",
    "\n",
    "fields = ['country_name','composition_food_organic_waste_percent', 'composition_glass_percent',\n",
    "       'composition_metal_percent', 'composition_other_percent',\n",
    "       'composition_paper_cardboard_percent', 'composition_plastic_percent',\n",
    "       'composition_rubber_leather_percent', 'composition_wood_percent',\n",
    "       'composition_yard_garden_green_waste_percent']\n",
    "data2 = pd.read_csv(\"country_level_data_0.csv\", usecols=fields)\n",
    "\n",
    "print (data2.columns)\n",
    "print (data2.shape)"
   ]
  },
  {
   "cell_type": "code",
   "execution_count": 29,
   "id": "0490727f",
   "metadata": {},
   "outputs": [
    {
     "data": {
      "text/plain": [
       "Index(['country_name', 'food_waste', 'glass', 'metal', 'others',\n",
       "       'paper_cardboard', 'plastic', 'rubber_leather', 'wood', 'green_waste'],\n",
       "      dtype='object')"
      ]
     },
     "execution_count": 29,
     "metadata": {},
     "output_type": "execute_result"
    }
   ],
   "source": [
    "dict = {'composition_food_organic_waste_percent': 'food_waste',\n",
    "        'composition_glass_percent': 'glass',\n",
    "        'composition_metal_percent': 'metal',\n",
    "        'composition_other_percent': 'others', \n",
    "        'composition_paper_cardboard_percent': 'paper_cardboard',\n",
    "       'composition_plastic_percent': 'plastic', \n",
    "        'composition_rubber_leather_percent' :'rubber_leather',\n",
    "       'composition_wood_percent' :'wood',\n",
    "       'composition_yard_garden_green_waste_percent':'green_waste'}\n",
    " \n",
    "data2.rename(columns=dict, inplace=True)\n",
    "data2.columns"
   ]
  },
  {
   "cell_type": "code",
   "execution_count": 30,
   "id": "435fe96b",
   "metadata": {},
   "outputs": [
    {
     "data": {
      "text/html": [
       "<div>\n",
       "<style scoped>\n",
       "    .dataframe tbody tr th:only-of-type {\n",
       "        vertical-align: middle;\n",
       "    }\n",
       "\n",
       "    .dataframe tbody tr th {\n",
       "        vertical-align: top;\n",
       "    }\n",
       "\n",
       "    .dataframe thead th {\n",
       "        text-align: right;\n",
       "    }\n",
       "</style>\n",
       "<table border=\"1\" class=\"dataframe\">\n",
       "  <thead>\n",
       "    <tr style=\"text-align: right;\">\n",
       "      <th></th>\n",
       "      <th>country_name</th>\n",
       "      <th>food_waste</th>\n",
       "      <th>glass</th>\n",
       "      <th>metal</th>\n",
       "      <th>others</th>\n",
       "      <th>paper_cardboard</th>\n",
       "      <th>plastic</th>\n",
       "      <th>rubber_leather</th>\n",
       "      <th>wood</th>\n",
       "      <th>green_waste</th>\n",
       "    </tr>\n",
       "  </thead>\n",
       "  <tbody>\n",
       "    <tr>\n",
       "      <th>8</th>\n",
       "      <td>American Samoa</td>\n",
       "      <td>19.70</td>\n",
       "      <td>3.40</td>\n",
       "      <td>7.90</td>\n",
       "      <td>25.60</td>\n",
       "      <td>26.4</td>\n",
       "      <td>12.80</td>\n",
       "      <td>4.2</td>\n",
       "      <td>NaN</td>\n",
       "      <td>NaN</td>\n",
       "    </tr>\n",
       "    <tr>\n",
       "      <th>10</th>\n",
       "      <td>Australia</td>\n",
       "      <td>48.44</td>\n",
       "      <td>3.81</td>\n",
       "      <td>19.38</td>\n",
       "      <td>3.46</td>\n",
       "      <td>17.3</td>\n",
       "      <td>7.61</td>\n",
       "      <td>NaN</td>\n",
       "      <td>NaN</td>\n",
       "      <td>NaN</td>\n",
       "    </tr>\n",
       "    <tr>\n",
       "      <th>28</th>\n",
       "      <td>Brunei Darussalam</td>\n",
       "      <td>36.00</td>\n",
       "      <td>3.00</td>\n",
       "      <td>4.00</td>\n",
       "      <td>15.00</td>\n",
       "      <td>18.0</td>\n",
       "      <td>16.00</td>\n",
       "      <td>1.0</td>\n",
       "      <td>1.0</td>\n",
       "      <td>6.0</td>\n",
       "    </tr>\n",
       "    <tr>\n",
       "      <th>36</th>\n",
       "      <td>China</td>\n",
       "      <td>61.20</td>\n",
       "      <td>2.10</td>\n",
       "      <td>1.10</td>\n",
       "      <td>13.10</td>\n",
       "      <td>9.6</td>\n",
       "      <td>9.80</td>\n",
       "      <td>1.3</td>\n",
       "      <td>1.8</td>\n",
       "      <td>NaN</td>\n",
       "    </tr>\n",
       "    <tr>\n",
       "      <th>63</th>\n",
       "      <td>Fiji</td>\n",
       "      <td>33.20</td>\n",
       "      <td>4.10</td>\n",
       "      <td>1.90</td>\n",
       "      <td>3.50</td>\n",
       "      <td>12.5</td>\n",
       "      <td>7.50</td>\n",
       "      <td>0.1</td>\n",
       "      <td>NaN</td>\n",
       "      <td>37.2</td>\n",
       "    </tr>\n",
       "  </tbody>\n",
       "</table>\n",
       "</div>"
      ],
      "text/plain": [
       "         country_name  food_waste  glass  metal  others  paper_cardboard  \\\n",
       "8      American Samoa       19.70   3.40   7.90   25.60             26.4   \n",
       "10          Australia       48.44   3.81  19.38    3.46             17.3   \n",
       "28  Brunei Darussalam       36.00   3.00   4.00   15.00             18.0   \n",
       "36              China       61.20   2.10   1.10   13.10              9.6   \n",
       "63               Fiji       33.20   4.10   1.90    3.50             12.5   \n",
       "\n",
       "    plastic  rubber_leather  wood  green_waste  \n",
       "8     12.80             4.2   NaN          NaN  \n",
       "10     7.61             NaN   NaN          NaN  \n",
       "28    16.00             1.0   1.0          6.0  \n",
       "36     9.80             1.3   1.8          NaN  \n",
       "63     7.50             0.1   NaN         37.2  "
      ]
     },
     "execution_count": 30,
     "metadata": {},
     "output_type": "execute_result"
    }
   ],
   "source": [
    "# select only country name of interest\n",
    "eas_waste_composition = data2[data2['country_name'].isin(eas_countries)].copy()\n",
    "eas_waste_composition.head()"
   ]
  },
  {
   "cell_type": "code",
   "execution_count": 31,
   "id": "4de37fca",
   "metadata": {},
   "outputs": [
    {
     "data": {
      "text/html": [
       "<div>\n",
       "<style scoped>\n",
       "    .dataframe tbody tr th:only-of-type {\n",
       "        vertical-align: middle;\n",
       "    }\n",
       "\n",
       "    .dataframe tbody tr th {\n",
       "        vertical-align: top;\n",
       "    }\n",
       "\n",
       "    .dataframe thead th {\n",
       "        text-align: right;\n",
       "    }\n",
       "</style>\n",
       "<table border=\"1\" class=\"dataframe\">\n",
       "  <thead>\n",
       "    <tr style=\"text-align: right;\">\n",
       "      <th></th>\n",
       "      <th>country_name</th>\n",
       "      <th>food_waste</th>\n",
       "      <th>glass</th>\n",
       "      <th>metal</th>\n",
       "      <th>others</th>\n",
       "      <th>paper_cardboard</th>\n",
       "      <th>plastic</th>\n",
       "      <th>rubber_leather</th>\n",
       "      <th>wood</th>\n",
       "      <th>green_waste</th>\n",
       "    </tr>\n",
       "  </thead>\n",
       "  <tbody>\n",
       "    <tr>\n",
       "      <th>80</th>\n",
       "      <td>Guam</td>\n",
       "      <td>27.3</td>\n",
       "      <td>4.6</td>\n",
       "      <td>9.0</td>\n",
       "      <td>8.7</td>\n",
       "      <td>28.5</td>\n",
       "      <td>12.4</td>\n",
       "      <td>3.1</td>\n",
       "      <td>6.4</td>\n",
       "      <td>NaN</td>\n",
       "    </tr>\n",
       "    <tr>\n",
       "      <th>82</th>\n",
       "      <td>Hong Kong SAR, China</td>\n",
       "      <td>35.0</td>\n",
       "      <td>3.0</td>\n",
       "      <td>2.0</td>\n",
       "      <td>14.0</td>\n",
       "      <td>22.0</td>\n",
       "      <td>21.0</td>\n",
       "      <td>NaN</td>\n",
       "      <td>3.0</td>\n",
       "      <td>NaN</td>\n",
       "    </tr>\n",
       "    <tr>\n",
       "      <th>132</th>\n",
       "      <td>Mongolia</td>\n",
       "      <td>22.7</td>\n",
       "      <td>NaN</td>\n",
       "      <td>NaN</td>\n",
       "      <td>50.1</td>\n",
       "      <td>12.7</td>\n",
       "      <td>14.5</td>\n",
       "      <td>NaN</td>\n",
       "      <td>NaN</td>\n",
       "      <td>NaN</td>\n",
       "    </tr>\n",
       "  </tbody>\n",
       "</table>\n",
       "</div>"
      ],
      "text/plain": [
       "             country_name  food_waste  glass  metal  others  paper_cardboard  \\\n",
       "80                   Guam        27.3    4.6    9.0     8.7             28.5   \n",
       "82   Hong Kong SAR, China        35.0    3.0    2.0    14.0             22.0   \n",
       "132              Mongolia        22.7    NaN    NaN    50.1             12.7   \n",
       "\n",
       "     plastic  rubber_leather  wood  green_waste  \n",
       "80      12.4             3.1   6.4          NaN  \n",
       "82      21.0             NaN   3.0          NaN  \n",
       "132     14.5             NaN   NaN          NaN  "
      ]
     },
     "execution_count": 31,
     "metadata": {},
     "output_type": "execute_result"
    }
   ],
   "source": [
    "# select only country name of interest\n",
    "top = data2[data2['country_name'].isin(eas_top_countries)].copy()\n",
    "top"
   ]
  },
  {
   "cell_type": "code",
   "execution_count": 32,
   "id": "73f7ddab",
   "metadata": {},
   "outputs": [
    {
     "data": {
      "text/html": [
       "<div>\n",
       "<style scoped>\n",
       "    .dataframe tbody tr th:only-of-type {\n",
       "        vertical-align: middle;\n",
       "    }\n",
       "\n",
       "    .dataframe tbody tr th {\n",
       "        vertical-align: top;\n",
       "    }\n",
       "\n",
       "    .dataframe thead th {\n",
       "        text-align: right;\n",
       "    }\n",
       "</style>\n",
       "<table border=\"1\" class=\"dataframe\">\n",
       "  <thead>\n",
       "    <tr style=\"text-align: right;\">\n",
       "      <th></th>\n",
       "      <th>country_name</th>\n",
       "      <th>food_waste</th>\n",
       "      <th>glass</th>\n",
       "      <th>metal</th>\n",
       "      <th>others</th>\n",
       "      <th>paper_cardboard</th>\n",
       "      <th>plastic</th>\n",
       "      <th>rubber_leather</th>\n",
       "      <th>wood</th>\n",
       "      <th>green_waste</th>\n",
       "      <th>total</th>\n",
       "    </tr>\n",
       "  </thead>\n",
       "  <tbody>\n",
       "    <tr>\n",
       "      <th>80</th>\n",
       "      <td>Guam</td>\n",
       "      <td>27.3</td>\n",
       "      <td>4.6</td>\n",
       "      <td>9.0</td>\n",
       "      <td>8.7</td>\n",
       "      <td>28.5</td>\n",
       "      <td>12.4</td>\n",
       "      <td>3.1</td>\n",
       "      <td>6.4</td>\n",
       "      <td>NaN</td>\n",
       "      <td>100.0</td>\n",
       "    </tr>\n",
       "    <tr>\n",
       "      <th>82</th>\n",
       "      <td>Hong Kong SAR, China</td>\n",
       "      <td>35.0</td>\n",
       "      <td>3.0</td>\n",
       "      <td>2.0</td>\n",
       "      <td>14.0</td>\n",
       "      <td>22.0</td>\n",
       "      <td>21.0</td>\n",
       "      <td>NaN</td>\n",
       "      <td>3.0</td>\n",
       "      <td>NaN</td>\n",
       "      <td>100.0</td>\n",
       "    </tr>\n",
       "    <tr>\n",
       "      <th>132</th>\n",
       "      <td>Mongolia</td>\n",
       "      <td>22.7</td>\n",
       "      <td>NaN</td>\n",
       "      <td>NaN</td>\n",
       "      <td>50.1</td>\n",
       "      <td>12.7</td>\n",
       "      <td>14.5</td>\n",
       "      <td>NaN</td>\n",
       "      <td>NaN</td>\n",
       "      <td>NaN</td>\n",
       "      <td>100.0</td>\n",
       "    </tr>\n",
       "  </tbody>\n",
       "</table>\n",
       "</div>"
      ],
      "text/plain": [
       "             country_name  food_waste  glass  metal  others  paper_cardboard  \\\n",
       "80                   Guam        27.3    4.6    9.0     8.7             28.5   \n",
       "82   Hong Kong SAR, China        35.0    3.0    2.0    14.0             22.0   \n",
       "132              Mongolia        22.7    NaN    NaN    50.1             12.7   \n",
       "\n",
       "     plastic  rubber_leather  wood  green_waste  total  \n",
       "80      12.4             3.1   6.4          NaN  100.0  \n",
       "82      21.0             NaN   3.0          NaN  100.0  \n",
       "132     14.5             NaN   NaN          NaN  100.0  "
      ]
     },
     "execution_count": 32,
     "metadata": {},
     "output_type": "execute_result"
    }
   ],
   "source": [
    "# to check if total collected waste accounted for 100%\n",
    "top['total']=top.iloc[:,1:].sum(axis=1)\n",
    "top"
   ]
  },
  {
   "cell_type": "code",
   "execution_count": 33,
   "id": "1d697cc4",
   "metadata": {},
   "outputs": [
    {
     "data": {
      "text/html": [
       "<div>\n",
       "<style scoped>\n",
       "    .dataframe tbody tr th:only-of-type {\n",
       "        vertical-align: middle;\n",
       "    }\n",
       "\n",
       "    .dataframe tbody tr th {\n",
       "        vertical-align: top;\n",
       "    }\n",
       "\n",
       "    .dataframe thead th {\n",
       "        text-align: right;\n",
       "    }\n",
       "</style>\n",
       "<table border=\"1\" class=\"dataframe\">\n",
       "  <thead>\n",
       "    <tr style=\"text-align: right;\">\n",
       "      <th></th>\n",
       "      <th>country_name</th>\n",
       "      <th>food_waste</th>\n",
       "      <th>glass</th>\n",
       "      <th>metal</th>\n",
       "      <th>others</th>\n",
       "      <th>paper_cardboard</th>\n",
       "      <th>plastic</th>\n",
       "      <th>rubber_leather</th>\n",
       "      <th>wood</th>\n",
       "      <th>green_waste</th>\n",
       "    </tr>\n",
       "  </thead>\n",
       "  <tbody>\n",
       "    <tr>\n",
       "      <th>80</th>\n",
       "      <td>Guam</td>\n",
       "      <td>27.3</td>\n",
       "      <td>4.6</td>\n",
       "      <td>9.0</td>\n",
       "      <td>8.7</td>\n",
       "      <td>28.5</td>\n",
       "      <td>12.4</td>\n",
       "      <td>3.1</td>\n",
       "      <td>6.4</td>\n",
       "      <td>NaN</td>\n",
       "    </tr>\n",
       "    <tr>\n",
       "      <th>82</th>\n",
       "      <td>Hong Kong SAR, China</td>\n",
       "      <td>35.0</td>\n",
       "      <td>3.0</td>\n",
       "      <td>2.0</td>\n",
       "      <td>14.0</td>\n",
       "      <td>22.0</td>\n",
       "      <td>21.0</td>\n",
       "      <td>NaN</td>\n",
       "      <td>3.0</td>\n",
       "      <td>NaN</td>\n",
       "    </tr>\n",
       "    <tr>\n",
       "      <th>132</th>\n",
       "      <td>Mongolia</td>\n",
       "      <td>22.7</td>\n",
       "      <td>NaN</td>\n",
       "      <td>NaN</td>\n",
       "      <td>50.1</td>\n",
       "      <td>12.7</td>\n",
       "      <td>14.5</td>\n",
       "      <td>NaN</td>\n",
       "      <td>NaN</td>\n",
       "      <td>NaN</td>\n",
       "    </tr>\n",
       "  </tbody>\n",
       "</table>\n",
       "</div>"
      ],
      "text/plain": [
       "             country_name  food_waste  glass  metal  others  paper_cardboard  \\\n",
       "80                   Guam        27.3    4.6    9.0     8.7             28.5   \n",
       "82   Hong Kong SAR, China        35.0    3.0    2.0    14.0             22.0   \n",
       "132              Mongolia        22.7    NaN    NaN    50.1             12.7   \n",
       "\n",
       "     plastic  rubber_leather  wood  green_waste  \n",
       "80      12.4             3.1   6.4          NaN  \n",
       "82      21.0             NaN   3.0          NaN  \n",
       "132     14.5             NaN   NaN          NaN  "
      ]
     },
     "execution_count": 33,
     "metadata": {},
     "output_type": "execute_result"
    }
   ],
   "source": [
    "# Once total has been checked drop the 'total' column to plot\n",
    "top.drop(columns='total', inplace=True)\n",
    "top"
   ]
  },
  {
   "cell_type": "code",
   "execution_count": 34,
   "id": "91822859",
   "metadata": {},
   "outputs": [
    {
     "data": {
      "text/html": [
       "<div>\n",
       "<style scoped>\n",
       "    .dataframe tbody tr th:only-of-type {\n",
       "        vertical-align: middle;\n",
       "    }\n",
       "\n",
       "    .dataframe tbody tr th {\n",
       "        vertical-align: top;\n",
       "    }\n",
       "\n",
       "    .dataframe thead th {\n",
       "        text-align: right;\n",
       "    }\n",
       "</style>\n",
       "<table border=\"1\" class=\"dataframe\">\n",
       "  <thead>\n",
       "    <tr style=\"text-align: right;\">\n",
       "      <th></th>\n",
       "      <th>country_name</th>\n",
       "      <th>food_waste</th>\n",
       "      <th>glass</th>\n",
       "      <th>metal</th>\n",
       "      <th>others</th>\n",
       "      <th>paper_cardboard</th>\n",
       "      <th>plastic</th>\n",
       "      <th>rubber_leather</th>\n",
       "      <th>wood</th>\n",
       "    </tr>\n",
       "  </thead>\n",
       "  <tbody>\n",
       "    <tr>\n",
       "      <th>80</th>\n",
       "      <td>Guam</td>\n",
       "      <td>27.3</td>\n",
       "      <td>4.6</td>\n",
       "      <td>9.0</td>\n",
       "      <td>8.7</td>\n",
       "      <td>28.5</td>\n",
       "      <td>12.4</td>\n",
       "      <td>3.1</td>\n",
       "      <td>6.4</td>\n",
       "    </tr>\n",
       "    <tr>\n",
       "      <th>82</th>\n",
       "      <td>Hong Kong SAR, China</td>\n",
       "      <td>35.0</td>\n",
       "      <td>3.0</td>\n",
       "      <td>2.0</td>\n",
       "      <td>14.0</td>\n",
       "      <td>22.0</td>\n",
       "      <td>21.0</td>\n",
       "      <td>NaN</td>\n",
       "      <td>3.0</td>\n",
       "    </tr>\n",
       "    <tr>\n",
       "      <th>132</th>\n",
       "      <td>Mongolia</td>\n",
       "      <td>22.7</td>\n",
       "      <td>NaN</td>\n",
       "      <td>NaN</td>\n",
       "      <td>50.1</td>\n",
       "      <td>12.7</td>\n",
       "      <td>14.5</td>\n",
       "      <td>NaN</td>\n",
       "      <td>NaN</td>\n",
       "    </tr>\n",
       "  </tbody>\n",
       "</table>\n",
       "</div>"
      ],
      "text/plain": [
       "             country_name  food_waste  glass  metal  others  paper_cardboard  \\\n",
       "80                   Guam        27.3    4.6    9.0     8.7             28.5   \n",
       "82   Hong Kong SAR, China        35.0    3.0    2.0    14.0             22.0   \n",
       "132              Mongolia        22.7    NaN    NaN    50.1             12.7   \n",
       "\n",
       "     plastic  rubber_leather  wood  \n",
       "80      12.4             3.1   6.4  \n",
       "82      21.0             NaN   3.0  \n",
       "132     14.5             NaN   NaN  "
      ]
     },
     "execution_count": 34,
     "metadata": {},
     "output_type": "execute_result"
    }
   ],
   "source": [
    "# drop all columnn with null value \n",
    "top.dropna(axis=1, how='all', inplace= True)\n",
    "top"
   ]
  },
  {
   "cell_type": "code",
   "execution_count": 35,
   "id": "096ccb43",
   "metadata": {},
   "outputs": [
    {
     "data": {
      "image/png": "[encoded data removed]",
      "text/plain": [
       "<Figure size 1440x720 with 1 Axes>"
      ]
     },
     "metadata": {
      "needs_background": "light"
     },
     "output_type": "display_data"
    }
   ],
   "source": [
    "# plot data in stack manner of bar type\n",
    "from matplotlib import cm\n",
    "cmap = cm.get_cmap('Spectral') # Colour map (there are many others)\n",
    "ax = top.plot(x='country_name', kind='bar', stacked=True, figsize=(20, 10), cmap=cmap, title='Type of Waste Collected')\n",
    "for c in ax.containers:\n",
    "\n",
    "    # display data label if greater than 2%\n",
    "    labels = [v.get_height().round(1) if v.get_height() > 2 else '' for v in c]\n",
    "    ax.bar_label(c, labels=labels, label_type='center')\n",
    "    \n",
    "plt.legend(loc='upper center', ncol=9)\n",
    "plt.xticks( rotation=45, horizontalalignment='right')\n",
    "plt.show()"
   ]
  },
  {
   "cell_type": "code",
   "execution_count": 36,
   "id": "01730138",
   "metadata": {},
   "outputs": [
    {
     "name": "stdout",
     "output_type": "stream",
     "text": [
      "Index(['country_name', 'waste_treatment_anaerobic_digestion_percent',\n",
      "       'waste_treatment_compost_percent',\n",
      "       'waste_treatment_controlled_landfill_percent',\n",
      "       'waste_treatment_incineration_percent',\n",
      "       'waste_treatment_landfill_unspecified_percent',\n",
      "       'waste_treatment_open_dump_percent', 'waste_treatment_other_percent',\n",
      "       'waste_treatment_recycling_percent',\n",
      "       'waste_treatment_sanitary_landfill_landfill_gas_system_percent',\n",
      "       'waste_treatment_unaccounted_for_percent',\n",
      "       'waste_treatment_waterways_marine_percent'],\n",
      "      dtype='object')\n",
      "(217, 12)\n"
     ]
    }
   ],
   "source": [
    "fields = ['country_name','waste_treatment_anaerobic_digestion_percent',\n",
    "       'waste_treatment_compost_percent',\n",
    "       'waste_treatment_controlled_landfill_percent',\n",
    "       'waste_treatment_incineration_percent',\n",
    "       'waste_treatment_landfill_unspecified_percent',\n",
    "       'waste_treatment_open_dump_percent', 'waste_treatment_other_percent',\n",
    "       'waste_treatment_recycling_percent',\n",
    "       'waste_treatment_sanitary_landfill_landfill_gas_system_percent',\n",
    "       'waste_treatment_unaccounted_for_percent',\n",
    "       'waste_treatment_waterways_marine_percent']\n",
    "\n",
    "waste_treatment = pd.read_csv(\"country_level_data_0.csv\", usecols=fields)\n",
    "\n",
    "print (waste_treatment.columns)\n",
    "print (waste_treatment.shape)"
   ]
  },
  {
   "cell_type": "code",
   "execution_count": 37,
   "id": "016d81f7",
   "metadata": {},
   "outputs": [
    {
     "data": {
      "text/plain": [
       "Index(['country_name', 'anaerobic_digestion', 'composition',\n",
       "       'controlled_landfill', 'incineration', 'landfill_unspecified',\n",
       "       'open_dump', 'other', 'recycling', 'sanitary_landfill', 'unaccounted',\n",
       "       'waterways_marine'],\n",
       "      dtype='object')"
      ]
     },
     "execution_count": 37,
     "metadata": {},
     "output_type": "execute_result"
    }
   ],
   "source": [
    "dict = {'waste_treatment_anaerobic_digestion_percent':'anaerobic_digestion',\n",
    "       'waste_treatment_compost_percent':'composition',\n",
    "       'waste_treatment_controlled_landfill_percent':'controlled_landfill',\n",
    "       'waste_treatment_incineration_percent':'incineration',\n",
    "       'waste_treatment_landfill_unspecified_percent':'landfill_unspecified',\n",
    "       'waste_treatment_open_dump_percent':'open_dump', \n",
    "        'waste_treatment_other_percent':'other',\n",
    "       'waste_treatment_recycling_percent':'recycling',\n",
    "       'waste_treatment_sanitary_landfill_landfill_gas_system_percent':'sanitary_landfill',\n",
    "       'waste_treatment_unaccounted_for_percent':'unaccounted',\n",
    "       'waste_treatment_waterways_marine_percent': 'waterways_marine'}\n",
    "\n",
    "waste_treatment.rename(columns=dict, inplace=True)\n",
    "waste_treatment.columns"
   ]
  },
  {
   "cell_type": "code",
   "execution_count": 43,
   "id": "3dda073c",
   "metadata": {},
   "outputs": [
    {
     "data": {
      "text/html": [
       "<div>\n",
       "<style scoped>\n",
       "    .dataframe tbody tr th:only-of-type {\n",
       "        vertical-align: middle;\n",
       "    }\n",
       "\n",
       "    .dataframe tbody tr th {\n",
       "        vertical-align: top;\n",
       "    }\n",
       "\n",
       "    .dataframe thead th {\n",
       "        text-align: right;\n",
       "    }\n",
       "</style>\n",
       "<table border=\"1\" class=\"dataframe\">\n",
       "  <thead>\n",
       "    <tr style=\"text-align: right;\">\n",
       "      <th></th>\n",
       "      <th>country_name</th>\n",
       "      <th>anaerobic_digestion</th>\n",
       "      <th>composition</th>\n",
       "      <th>controlled_landfill</th>\n",
       "      <th>incineration</th>\n",
       "      <th>landfill_unspecified</th>\n",
       "      <th>open_dump</th>\n",
       "      <th>other</th>\n",
       "      <th>recycling</th>\n",
       "      <th>sanitary_landfill</th>\n",
       "      <th>unaccounted</th>\n",
       "      <th>waterways_marine</th>\n",
       "    </tr>\n",
       "  </thead>\n",
       "  <tbody>\n",
       "    <tr>\n",
       "      <th>80</th>\n",
       "      <td>Guam</td>\n",
       "      <td>NaN</td>\n",
       "      <td>NaN</td>\n",
       "      <td>NaN</td>\n",
       "      <td>NaN</td>\n",
       "      <td>NaN</td>\n",
       "      <td>NaN</td>\n",
       "      <td>NaN</td>\n",
       "      <td>17.85</td>\n",
       "      <td>64.0</td>\n",
       "      <td>18.15</td>\n",
       "      <td>NaN</td>\n",
       "    </tr>\n",
       "    <tr>\n",
       "      <th>82</th>\n",
       "      <td>Hong Kong SAR, China</td>\n",
       "      <td>NaN</td>\n",
       "      <td>NaN</td>\n",
       "      <td>NaN</td>\n",
       "      <td>NaN</td>\n",
       "      <td>66.0</td>\n",
       "      <td>NaN</td>\n",
       "      <td>NaN</td>\n",
       "      <td>34.00</td>\n",
       "      <td>NaN</td>\n",
       "      <td>NaN</td>\n",
       "      <td>NaN</td>\n",
       "    </tr>\n",
       "    <tr>\n",
       "      <th>132</th>\n",
       "      <td>Mongolia</td>\n",
       "      <td>NaN</td>\n",
       "      <td>NaN</td>\n",
       "      <td>NaN</td>\n",
       "      <td>NaN</td>\n",
       "      <td>NaN</td>\n",
       "      <td>93.5</td>\n",
       "      <td>NaN</td>\n",
       "      <td>NaN</td>\n",
       "      <td>NaN</td>\n",
       "      <td>6.50</td>\n",
       "      <td>NaN</td>\n",
       "    </tr>\n",
       "  </tbody>\n",
       "</table>\n",
       "</div>"
      ],
      "text/plain": [
       "             country_name  anaerobic_digestion  composition  \\\n",
       "80                   Guam                  NaN          NaN   \n",
       "82   Hong Kong SAR, China                  NaN          NaN   \n",
       "132              Mongolia                  NaN          NaN   \n",
       "\n",
       "     controlled_landfill  incineration  landfill_unspecified  open_dump  \\\n",
       "80                   NaN           NaN                   NaN        NaN   \n",
       "82                   NaN           NaN                  66.0        NaN   \n",
       "132                  NaN           NaN                   NaN       93.5   \n",
       "\n",
       "     other  recycling  sanitary_landfill  unaccounted  waterways_marine  \n",
       "80     NaN      17.85               64.0        18.15               NaN  \n",
       "82     NaN      34.00                NaN          NaN               NaN  \n",
       "132    NaN        NaN                NaN         6.50               NaN  "
      ]
     },
     "execution_count": 43,
     "metadata": {},
     "output_type": "execute_result"
    }
   ],
   "source": [
    "# select only country name of interest\n",
    "waste_treatment_sub1 = waste_treatment[waste_treatment['country_name'].isin(eas_top_countries)].copy()\n",
    "waste_treatment_sub1"
   ]
  },
  {
   "cell_type": "code",
   "execution_count": 44,
   "id": "770d29d9",
   "metadata": {},
   "outputs": [
    {
     "data": {
      "text/html": [
       "<div>\n",
       "<style scoped>\n",
       "    .dataframe tbody tr th:only-of-type {\n",
       "        vertical-align: middle;\n",
       "    }\n",
       "\n",
       "    .dataframe tbody tr th {\n",
       "        vertical-align: top;\n",
       "    }\n",
       "\n",
       "    .dataframe thead th {\n",
       "        text-align: right;\n",
       "    }\n",
       "</style>\n",
       "<table border=\"1\" class=\"dataframe\">\n",
       "  <thead>\n",
       "    <tr style=\"text-align: right;\">\n",
       "      <th></th>\n",
       "      <th>country_name</th>\n",
       "      <th>anaerobic_digestion</th>\n",
       "      <th>composition</th>\n",
       "      <th>controlled_landfill</th>\n",
       "      <th>incineration</th>\n",
       "      <th>landfill_unspecified</th>\n",
       "      <th>open_dump</th>\n",
       "      <th>other</th>\n",
       "      <th>recycling</th>\n",
       "      <th>sanitary_landfill</th>\n",
       "      <th>unaccounted</th>\n",
       "      <th>waterways_marine</th>\n",
       "      <th>total</th>\n",
       "    </tr>\n",
       "  </thead>\n",
       "  <tbody>\n",
       "    <tr>\n",
       "      <th>80</th>\n",
       "      <td>Guam</td>\n",
       "      <td>NaN</td>\n",
       "      <td>NaN</td>\n",
       "      <td>NaN</td>\n",
       "      <td>NaN</td>\n",
       "      <td>NaN</td>\n",
       "      <td>NaN</td>\n",
       "      <td>NaN</td>\n",
       "      <td>17.85</td>\n",
       "      <td>64.0</td>\n",
       "      <td>18.15</td>\n",
       "      <td>NaN</td>\n",
       "      <td>100.0</td>\n",
       "    </tr>\n",
       "    <tr>\n",
       "      <th>82</th>\n",
       "      <td>Hong Kong SAR, China</td>\n",
       "      <td>NaN</td>\n",
       "      <td>NaN</td>\n",
       "      <td>NaN</td>\n",
       "      <td>NaN</td>\n",
       "      <td>66.0</td>\n",
       "      <td>NaN</td>\n",
       "      <td>NaN</td>\n",
       "      <td>34.00</td>\n",
       "      <td>NaN</td>\n",
       "      <td>NaN</td>\n",
       "      <td>NaN</td>\n",
       "      <td>100.0</td>\n",
       "    </tr>\n",
       "    <tr>\n",
       "      <th>132</th>\n",
       "      <td>Mongolia</td>\n",
       "      <td>NaN</td>\n",
       "      <td>NaN</td>\n",
       "      <td>NaN</td>\n",
       "      <td>NaN</td>\n",
       "      <td>NaN</td>\n",
       "      <td>93.5</td>\n",
       "      <td>NaN</td>\n",
       "      <td>NaN</td>\n",
       "      <td>NaN</td>\n",
       "      <td>6.50</td>\n",
       "      <td>NaN</td>\n",
       "      <td>100.0</td>\n",
       "    </tr>\n",
       "  </tbody>\n",
       "</table>\n",
       "</div>"
      ],
      "text/plain": [
       "             country_name  anaerobic_digestion  composition  \\\n",
       "80                   Guam                  NaN          NaN   \n",
       "82   Hong Kong SAR, China                  NaN          NaN   \n",
       "132              Mongolia                  NaN          NaN   \n",
       "\n",
       "     controlled_landfill  incineration  landfill_unspecified  open_dump  \\\n",
       "80                   NaN           NaN                   NaN        NaN   \n",
       "82                   NaN           NaN                  66.0        NaN   \n",
       "132                  NaN           NaN                   NaN       93.5   \n",
       "\n",
       "     other  recycling  sanitary_landfill  unaccounted  waterways_marine  total  \n",
       "80     NaN      17.85               64.0        18.15               NaN  100.0  \n",
       "82     NaN      34.00                NaN          NaN               NaN  100.0  \n",
       "132    NaN        NaN                NaN         6.50               NaN  100.0  "
      ]
     },
     "execution_count": 44,
     "metadata": {},
     "output_type": "execute_result"
    }
   ],
   "source": [
    "# to check if total collected waste accounted for 100%\n",
    "waste_treatment_sub1['total']=waste_treatment_sub1.iloc[:,1:].sum(axis=1)\n",
    "waste_treatment_sub1"
   ]
  },
  {
   "cell_type": "code",
   "execution_count": 45,
   "id": "006b44a7",
   "metadata": {},
   "outputs": [
    {
     "data": {
      "text/html": [
       "<div>\n",
       "<style scoped>\n",
       "    .dataframe tbody tr th:only-of-type {\n",
       "        vertical-align: middle;\n",
       "    }\n",
       "\n",
       "    .dataframe tbody tr th {\n",
       "        vertical-align: top;\n",
       "    }\n",
       "\n",
       "    .dataframe thead th {\n",
       "        text-align: right;\n",
       "    }\n",
       "</style>\n",
       "<table border=\"1\" class=\"dataframe\">\n",
       "  <thead>\n",
       "    <tr style=\"text-align: right;\">\n",
       "      <th></th>\n",
       "      <th>country_name</th>\n",
       "      <th>anaerobic_digestion</th>\n",
       "      <th>composition</th>\n",
       "      <th>controlled_landfill</th>\n",
       "      <th>incineration</th>\n",
       "      <th>landfill_unspecified</th>\n",
       "      <th>open_dump</th>\n",
       "      <th>other</th>\n",
       "      <th>recycling</th>\n",
       "      <th>sanitary_landfill</th>\n",
       "      <th>unaccounted</th>\n",
       "      <th>waterways_marine</th>\n",
       "    </tr>\n",
       "  </thead>\n",
       "  <tbody>\n",
       "    <tr>\n",
       "      <th>80</th>\n",
       "      <td>Guam</td>\n",
       "      <td>NaN</td>\n",
       "      <td>NaN</td>\n",
       "      <td>NaN</td>\n",
       "      <td>NaN</td>\n",
       "      <td>NaN</td>\n",
       "      <td>NaN</td>\n",
       "      <td>NaN</td>\n",
       "      <td>17.85</td>\n",
       "      <td>64.0</td>\n",
       "      <td>18.15</td>\n",
       "      <td>NaN</td>\n",
       "    </tr>\n",
       "    <tr>\n",
       "      <th>82</th>\n",
       "      <td>Hong Kong SAR, China</td>\n",
       "      <td>NaN</td>\n",
       "      <td>NaN</td>\n",
       "      <td>NaN</td>\n",
       "      <td>NaN</td>\n",
       "      <td>66.0</td>\n",
       "      <td>NaN</td>\n",
       "      <td>NaN</td>\n",
       "      <td>34.00</td>\n",
       "      <td>NaN</td>\n",
       "      <td>NaN</td>\n",
       "      <td>NaN</td>\n",
       "    </tr>\n",
       "    <tr>\n",
       "      <th>132</th>\n",
       "      <td>Mongolia</td>\n",
       "      <td>NaN</td>\n",
       "      <td>NaN</td>\n",
       "      <td>NaN</td>\n",
       "      <td>NaN</td>\n",
       "      <td>NaN</td>\n",
       "      <td>93.5</td>\n",
       "      <td>NaN</td>\n",
       "      <td>NaN</td>\n",
       "      <td>NaN</td>\n",
       "      <td>6.50</td>\n",
       "      <td>NaN</td>\n",
       "    </tr>\n",
       "  </tbody>\n",
       "</table>\n",
       "</div>"
      ],
      "text/plain": [
       "             country_name  anaerobic_digestion  composition  \\\n",
       "80                   Guam                  NaN          NaN   \n",
       "82   Hong Kong SAR, China                  NaN          NaN   \n",
       "132              Mongolia                  NaN          NaN   \n",
       "\n",
       "     controlled_landfill  incineration  landfill_unspecified  open_dump  \\\n",
       "80                   NaN           NaN                   NaN        NaN   \n",
       "82                   NaN           NaN                  66.0        NaN   \n",
       "132                  NaN           NaN                   NaN       93.5   \n",
       "\n",
       "     other  recycling  sanitary_landfill  unaccounted  waterways_marine  \n",
       "80     NaN      17.85               64.0        18.15               NaN  \n",
       "82     NaN      34.00                NaN          NaN               NaN  \n",
       "132    NaN        NaN                NaN         6.50               NaN  "
      ]
     },
     "execution_count": 45,
     "metadata": {},
     "output_type": "execute_result"
    }
   ],
   "source": [
    "# Once total has been checked drop the 'total' column to plot\n",
    "waste_treatment_sub1.drop(columns='total', inplace=True)\n",
    "waste_treatment_sub1"
   ]
  },
  {
   "cell_type": "code",
   "execution_count": 46,
   "id": "2986bda2",
   "metadata": {},
   "outputs": [],
   "source": [
    "# drop all columnn with null value \n",
    "waste_treatment_sub1.dropna(axis=1, how='all', inplace= True)"
   ]
  },
  {
   "cell_type": "code",
   "execution_count": 47,
   "id": "24f866cd",
   "metadata": {},
   "outputs": [
    {
     "data": {
      "image/png": "[encoded data removed]",
      "text/plain": [
       "<Figure size 1440x720 with 1 Axes>"
      ]
     },
     "metadata": {
      "needs_background": "light"
     },
     "output_type": "display_data"
    }
   ],
   "source": [
    "# plot data in stack manner of bar type\n",
    "cmap = cm.get_cmap('coolwarm') # Colour map (there are many others)\n",
    "ax = waste_treatment_sub1.plot(x='country_name', kind='bar', stacked=True, figsize=(20, 10), cmap=cmap, title='Type of Waste Treatment')\n",
    "for c in ax.containers:\n",
    "\n",
    "    # display data label if greater than 0%\n",
    "    labels = [v.get_height().round(1) if v.get_height() > 0 else '' for v in c]\n",
    "    ax.bar_label(c, labels=labels, label_type='center')\n",
    "    \n",
    "plt.legend(loc='upper center', ncol=9)\n",
    "plt.xticks( rotation=45, horizontalalignment='right')\n",
    "plt.show()"
   ]
  }
 ],
 "metadata": {
  "kernelspec": {
   "display_name": "Python 3 (ipykernel)",
   "language": "python",
   "name": "python3"
  },
  "language_info": {
   "codemirror_mode": {
    "name": "ipython",
    "version": 3
   },
   "file_extension": ".py",
   "mimetype": "text/x-python",
   "name": "python",
   "nbconvert_exporter": "python",
   "pygments_lexer": "ipython3",
   "version": "3.9.7"
  }
 },
 "nbformat": 4,
 "nbformat_minor": 5
}
